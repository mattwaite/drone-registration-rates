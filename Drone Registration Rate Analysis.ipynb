{
 "cells": [
  {
   "cell_type": "code",
   "execution_count": 1,
   "metadata": {
    "collapsed": true
   },
   "outputs": [],
   "source": [
    "import agate"
   ]
  },
  {
   "cell_type": "code",
   "execution_count": 2,
   "metadata": {
    "collapsed": false
   },
   "outputs": [],
   "source": [
    "drones = agate.Table.from_csv('drones.csv')\n",
    "\n",
    "tester = agate.TypeTester(force={\n",
    "    'Id': agate.Text(),\n",
    "    'ZCTA': agate.Text()\n",
    "})\n",
    "\n",
    "zips = agate.Table.from_csv('zcta.csv', column_types=tester)"
   ]
  },
  {
   "cell_type": "code",
   "execution_count": 3,
   "metadata": {
    "collapsed": false
   },
   "outputs": [
    {
     "name": "stdout",
     "output_type": "stream",
     "text": [
      "|----------------------------+---------------|\n",
      "|  column_names              | column_types  |\n",
      "|----------------------------+---------------|\n",
      "|  Country                   | Text          |\n",
      "|  State / Province / Region | Text          |\n",
      "|  City                      | Text          |\n",
      "|  Postal Code               | Text          |\n",
      "|  Number of Registrations   | Number        |\n",
      "|----------------------------+---------------|\n",
      "\n"
     ]
    }
   ],
   "source": [
    "print(drones)"
   ]
  },
  {
   "cell_type": "code",
   "execution_count": 4,
   "metadata": {
    "collapsed": false
   },
   "outputs": [
    {
     "name": "stdout",
     "output_type": "stream",
     "text": [
      "|---------------+---------------|\n",
      "|  column_names | column_types  |\n",
      "|---------------+---------------|\n",
      "|  Id           | Text          |\n",
      "|  ZCTA         | Text          |\n",
      "|  Geography    | Text          |\n",
      "|  Total        | Number        |\n",
      "|---------------+---------------|\n",
      "\n"
     ]
    }
   ],
   "source": [
    "print(zips)"
   ]
  },
  {
   "cell_type": "code",
   "execution_count": 5,
   "metadata": {
    "collapsed": false
   },
   "outputs": [],
   "source": [
    "us_drones = drones.where(lambda row: row['Country'] == 'United States')"
   ]
  },
  {
   "cell_type": "code",
   "execution_count": 6,
   "metadata": {
    "collapsed": false
   },
   "outputs": [],
   "source": [
    "drone_with_populations = us_drones.join(zips, 'Postal Code', 'ZCTA', inner=True)"
   ]
  },
  {
   "cell_type": "code",
   "execution_count": 7,
   "metadata": {
    "collapsed": false
   },
   "outputs": [
    {
     "name": "stdout",
     "output_type": "stream",
     "text": [
      "|----------------------------+---------------|\n",
      "|  column_names              | column_types  |\n",
      "|----------------------------+---------------|\n",
      "|  Country                   | Text          |\n",
      "|  State / Province / Region | Text          |\n",
      "|  City                      | Text          |\n",
      "|  Postal Code               | Text          |\n",
      "|  Number of Registrations   | Number        |\n",
      "|  Id                        | Text          |\n",
      "|  Geography                 | Text          |\n",
      "|  Total                     | Number        |\n",
      "|----------------------------+---------------|\n",
      "\n"
     ]
    }
   ],
   "source": [
    "print(drone_with_populations)"
   ]
  },
  {
   "cell_type": "code",
   "execution_count": 8,
   "metadata": {
    "collapsed": false
   },
   "outputs": [
    {
     "name": "stdout",
     "output_type": "stream",
     "text": [
      "|----------------+---------------------------+--------------+-------------+-------------------------+----------------+-------------+---------|\n",
      "|  Country       | State / Province / Region | City         | Postal Code | Number of Registrations | Id             | Geography   |  Total  |\n",
      "|----------------+---------------------------+--------------+-------------+-------------------------+----------------+-------------+---------|\n",
      "|  United States | AK                        | 99508        | 99508       |                       1 | 8600000US99508 | ZCTA5 99508 | 35,135  |\n",
      "|  United States | AK                        | Aachen       | 52064       |                       1 | 8600000US52064 | ZCTA5 52064 |    885  |\n",
      "|  United States | AK                        | Alakanuk     | 99554       |                       1 | 8600000US99554 | ZCTA5 99554 |    733  |\n",
      "|  United States | AK                        | Alaska       | 99712       |                       1 | 8600000US99712 | ZCTA5 99712 | 12,134  |\n",
      "|  United States | AK                        | Amook Pass   | 99615       |                       1 | 8600000US99615 | ZCTA5 99615 | 13,096  |\n",
      "|  United States | AK                        | anchor point | 99556       |                       8 | 8600000US99556 | ZCTA5 99556 |  2,710  |\n",
      "|  United States | AK                        | Anchorage    | 95501       |                       1 | 8600000US95501 | ZCTA5 95501 | 23,769  |\n",
      "|  United States | AK                        | Anchorage    | 99501       |                      33 | 8600000US99501 | ZCTA5 99501 | 16,976  |\n",
      "|  United States | AK                        | Anchorage    | 99502       |                      75 | 8600000US99502 | ZCTA5 99502 | 24,012  |\n",
      "|  United States | AK                        | Anchorage    | 99503       |                      29 | 8600000US99503 | ZCTA5 99503 | 14,661  |\n",
      "|  ...           | ...                       | ...          | ...         |                     ... | ...            | ...         |    ...  |\n",
      "|----------------+---------------------------+--------------+-------------+-------------------------+----------------+-------------+---------|\n"
     ]
    }
   ],
   "source": [
    "drone_with_populations.print_table(max_rows=10)"
   ]
  },
  {
   "cell_type": "code",
   "execution_count": 9,
   "metadata": {
    "collapsed": false
   },
   "outputs": [],
   "source": [
    "from decimal import Decimal\n",
    "\n",
    "def drone_rate(row):\n",
    "    if row['Number of Registrations'] == 0:\n",
    "        rate = float(0)\n",
    "    elif row['Total'] == 0:\n",
    "        rate = float(0)\n",
    "    else:\n",
    "        rate = (row['Number of Registrations']/row['Total'])*100000\n",
    "    return rate\n",
    "\n",
    "drone_rate = drone_with_populations.compute([\n",
    "    ('drone_rate', agate.Formula(agate.Number(), drone_rate))\n",
    "])"
   ]
  },
  {
   "cell_type": "code",
   "execution_count": 10,
   "metadata": {
    "collapsed": false
   },
   "outputs": [],
   "source": [
    "sorted_rates = drone_rate.order_by('drone_rate', reverse=True)"
   ]
  },
  {
   "cell_type": "code",
   "execution_count": 11,
   "metadata": {
    "collapsed": false
   },
   "outputs": [],
   "source": [
    "for_printing = sorted_rates.select(['City', 'State / Province / Region', 'Postal Code', 'Number of Registrations','Total', 'drone_rate'])"
   ]
  },
  {
   "cell_type": "code",
   "execution_count": 12,
   "metadata": {
    "collapsed": false
   },
   "outputs": [
    {
     "name": "stdout",
     "output_type": "stream",
     "text": [
      "|-----------------------+---------------------------+-------------+-------------------------+-------+---------------------------------|\n",
      "|  City                 | State / Province / Region | Postal Code | Number of Registrations | Total |                     drone_rate  |\n",
      "|-----------------------+---------------------------+-------------+-------------------------+-------+---------------------------------|\n",
      "|  Oakville             | NY                        | 10110       |                       1 |     1 | 100,000.0000000000000000000000  |\n",
      "|  Pullman              | WA                        | 99164       |                       1 |     1 | 100,000.0000000000000000000000  |\n",
      "|  Greenville           | MS                        | 38704       |                       1 |     3 |  33,333.3333333333333333333333  |\n",
      "|  Bellville            | TX                        | 77481       |                       1 |     3 |  33,333.3333333333333333333333  |\n",
      "|  Thompsons            | TX                        | 77481       |                       1 |     3 |  33,333.3333333333333333333333  |\n",
      "|  Scotland             | PA                        | 17254       |                       1 |     4 |  25,000.0000000000000000000000  |\n",
      "|  Thompson Ridge       | NY                        | 10985       |                       3 |    14 |  21,428.5714285714285714285714  |\n",
      "|  Buckingham           | PA                        | 18912       |                       2 |    11 |  18,181.8181818181818181818182  |\n",
      "|  East Orleans         | MA                        | 02643       |                       3 |    18 |  16,666.6666666666666666666667  |\n",
      "|  Davis Creek          | CA                        | 96108       |                       1 |     7 |  14,285.7142857142857142857143  |\n",
      "|  Stehekin             | WA                        | 98852       |                       1 |     7 |  14,285.7142857142857142857143  |\n",
      "|  Wiseman              | AK                        | 99790       |                       2 |    20 |  10,000.0000000000000000000000  |\n",
      "|  N Hatfield           | MA                        | 01066       |                       1 |    10 |  10,000.0000000000000000000000  |\n",
      "|  North Hatfield       | MA                        | 01066       |                       1 |    10 |  10,000.0000000000000000000000  |\n",
      "|  Sulphur Springs      | OH                        | 44881       |                       1 |    11 |   9,090.9090909090909090909091  |\n",
      "|  Cedar Lane           | TX                        | 77415       |                       1 |    11 |   9,090.9090909090909090909091  |\n",
      "|  Middleburg           | VA                        | 20118       |                       1 |    11 |   9,090.9090909090909090909091  |\n",
      "|  chico                | CA                        | 95923       |                       1 |    12 |   8,333.3333333333333333333333  |\n",
      "|  Goodyears Bar        | CA                        | 95944       |                       1 |    12 |   8,333.3333333333333333333333  |\n",
      "|  Lincoln              | NE                        | 68531       |                       1 |    13 |   7,692.3076923076923076923077  |\n",
      "|  Seattle              | WA                        | 98195       |                       3 |    39 |   7,692.3076923076923076923077  |\n",
      "|  kaneohe bay          | HI                        | 96863       |                       2 |    27 |   7,407.4074074074074074074074  |\n",
      "|  Mikana               | WI                        | 54857       |                       2 |    29 |   6,896.5517241379310344827586  |\n",
      "|  Indian Lakes Estates | FL                        | 33855       |                       1 |    15 |   6,666.6666666666666666666667  |\n",
      "|  Bellona              | NY                        | 14415       |                       4 |    61 |   6,557.3770491803278688524590  |\n",
      "|  Robbinsville         | NJ                        | 08561       |                       1 |    16 |   6,250.0000000000000000000000  |\n",
      "|  Norman               | OK                        | 73019       |                       4 |    64 |   6,250.0000000000000000000000  |\n",
      "|  San Francisco        | CA                        | 94104       |                      13 |   223 |   5,829.5964125560538116591928  |\n",
      "|  Princewick           | WV                        | 25908       |                       3 |    52 |   5,769.2307692307692307692308  |\n",
      "|  Brooks               | CA                        | 95606       |                       2 |    35 |   5,714.2857142857142857142857  |\n",
      "|  Montchanin           | DE                        | 19710       |                       1 |    18 |   5,555.5555555555555555555556  |\n",
      "|  Aquebogue            | NY                        | 11931       |                       2 |    36 |   5,555.5555555555555555555556  |\n",
      "|  Greenville junction  | ME                        | 04442       |                       3 |    56 |   5,357.1428571428571428571429  |\n",
      "|  Averill              | VT                        | 05901       |                       1 |    19 |   5,263.1578947368421052631579  |\n",
      "|  Eminence             | IN                        | 46125       |                       2 |    39 |   5,128.2051282051282051282051  |\n",
      "|  Point Clear          | AL                        | 36564       |                       1 |    20 |   5,000.0000000000000000000000  |\n",
      "|  Pompey               | NY                        | 13138       |                       1 |    21 |   4,761.9047619047619047619048  |\n",
      "|  Sheldon Springs      | VT                        | 05485       |                       2 |    42 |   4,761.9047619047619047619048  |\n",
      "|  Wallula              | WA                        | 99363       |                       1 |    21 |   4,761.9047619047619047619048  |\n",
      "|  Wooster              | AR                        | 72181       |                       1 |    22 |   4,545.4545454545454545454545  |\n",
      "|  Bingham              | NE                        | 69335       |                       1 |    22 |   4,545.4545454545454545454545  |\n",
      "|  Elwood               | NJ                        | 08217       |                       1 |    22 |   4,545.4545454545454545454545  |\n",
      "|  Tuscarora            | MD                        | 21790       |                       2 |    45 |   4,444.4444444444444444444444  |\n",
      "|  Santa Cruz           | CA                        | 65062       |                       1 |    23 |   4,347.8260869565217391304348  |\n",
      "|  Somerdale            | OH                        | 44678       |                       1 |    23 |   4,347.8260869565217391304348  |\n",
      "|  Gateway              | CO                        | 81522       |                       1 |    25 |   4,000.0000000000000000000000  |\n",
      "|  Como                 | CO                        | 80432       |                       4 |   104 |   3,846.1538461538461538461538  |\n",
      "|  Panama City beach    | FL                        | 32461       |                       1 |    26 |   3,846.1538461538461538461538  |\n",
      "|  Rosemary Beach       | FL                        | 32461       |                       1 |    26 |   3,846.1538461538461538461538  |\n",
      "|  Boise,idaho          | ID                        | 83666       |                       1 |    26 |   3,846.1538461538461538461538  |\n",
      "|  ...                  | ...                       | ...         |                     ... |   ... |                            ...  |\n",
      "|-----------------------+---------------------------+-------------+-------------------------+-------+---------------------------------|\n"
     ]
    }
   ],
   "source": [
    "for_printing.print_table(max_rows=50)"
   ]
  },
  {
   "cell_type": "code",
   "execution_count": 13,
   "metadata": {
    "collapsed": true
   },
   "outputs": [],
   "source": [
    "for_printing.to_csv('droneregistrationrate.csv')"
   ]
  },
  {
   "cell_type": "code",
   "execution_count": 14,
   "metadata": {
    "collapsed": true
   },
   "outputs": [],
   "source": [
    "larger_zips = sorted_rates.where(lambda row: row['Total'] > 100)"
   ]
  },
  {
   "cell_type": "code",
   "execution_count": 18,
   "metadata": {
    "collapsed": false
   },
   "outputs": [
    {
     "name": "stdout",
     "output_type": "stream",
     "text": [
      "|----------------+---------------------------+------------------+-------------+-------------------------+----------------+-------------+-------+---------------------------------|\n",
      "|  Country       | State / Province / Region | City             | Postal Code | Number of Registrations | Id             | Geography   | Total |                     drone_rate  |\n",
      "|----------------+---------------------------+------------------+-------------+-------------------------+----------------+-------------+-------+---------------------------------|\n",
      "|  United States | CA                        | San Francisco    | 94104       |                      13 | 8600000US94104 | ZCTA5 94104 |   223 | 5,829.596412556053811659192825  |\n",
      "|  United States | CO                        | Como             | 80432       |                       4 | 8600000US80432 | ZCTA5 80432 |   104 | 3,846.153846153846153846153846  |\n",
      "|  United States | MD                        | Dameron          | 20628       |                       4 | 8600000US20628 | ZCTA5 20628 |   133 | 3,007.518796992481203007518797  |\n",
      "|  United States | IL                        | Millbrook        | 60536       |                       3 | 8600000US60536 | ZCTA5 60536 |   111 | 2,702.702702702702702702702703  |\n",
      "|  United States | TX                        | Southmayd        | 76268       |                       5 | 8600000US76268 | ZCTA5 76268 |   186 | 2,688.172043010752688172043011  |\n",
      "|  United States | TX                        | Concan           | 78838       |                       4 | 8600000US78838 | ZCTA5 78838 |   149 | 2,684.563758389261744966442953  |\n",
      "|  United States | ME                        | Little Deer Isle | 04650       |                       4 | 8600000US04650 | ZCTA5 04650 |   151 | 2,649.006622516556291390728477  |\n",
      "|  United States | PA                        | Brandamore       | 19316       |                       3 | 8600000US19316 | ZCTA5 19316 |   116 | 2,586.206896551724137931034483  |\n",
      "|  United States | MT                        | melrose          | 59743       |                       3 | 8600000US59743 | ZCTA5 59743 |   123 | 2,439.024390243902439024390244  |\n",
      "|  United States | ND                        | Berlin           | 58415       |                       3 | 8600000US58415 | ZCTA5 58415 |   123 | 2,439.024390243902439024390244  |\n",
      "|  United States | AK                        | Dutch Harbor     | 99692       |                       5 | 8600000US99692 | ZCTA5 99692 |   215 | 2,325.581395348837209302325581  |\n",
      "|  United States | NV                        | Incline Village  | 89450       |                       4 | 8600000US89450 | ZCTA5 89450 |   177 | 2,259.887005649717514124293785  |\n",
      "|  United States | KS                        | Milton           | 67106       |                       3 | 8600000US67106 | ZCTA5 67106 |   135 | 2,222.222222222222222222222222  |\n",
      "|  United States | ND                        | Sykeston         | 58486       |                       3 | 8600000US58486 | ZCTA5 58486 |   140 | 2,142.857142857142857142857143  |\n",
      "|  United States | IA                        | Dougherty        | 50433       |                       5 | 8600000US50433 | ZCTA5 50433 |   234 | 2,136.752136752136752136752137  |\n",
      "|  United States | FL                        | Hollister        | 32147       |                       2 | 8600000US32147 | ZCTA5 32147 |   101 | 1,980.198019801980198019801980  |\n",
      "|  United States | PA                        | junedale         | 18230       |                       2 | 8600000US18230 | ZCTA5 18230 |   102 | 1,960.784313725490196078431373  |\n",
      "|  United States | CA                        | Canyon           | 94516       |                       3 | 8600000US94516 | ZCTA5 94516 |   154 | 1,948.051948051948051948051948  |\n",
      "|  United States | KS                        | Edson            | 67733       |                       2 | 8600000US67733 | ZCTA5 67733 |   104 | 1,923.076923076923076923076923  |\n",
      "|  United States | LA                        | husser           | 70442       |                       3 | 8600000US70442 | ZCTA5 70442 |   158 | 1,898.734177215189873417721519  |\n",
      "|  ...           | ...                       | ...              | ...         |                     ... | ...            | ...         |   ... |                            ...  |\n",
      "|----------------+---------------------------+------------------+-------------+-------------------------+----------------+-------------+-------+---------------------------------|\n"
     ]
    }
   ],
   "source": [
    "larger_zips.print_table(max_rows=20)"
   ]
  },
  {
   "cell_type": "code",
   "execution_count": 17,
   "metadata": {
    "collapsed": true
   },
   "outputs": [],
   "source": [
    "larger_zips.to_csv('larger_zips.csv')"
   ]
  },
  {
   "cell_type": "code",
   "execution_count": null,
   "metadata": {
    "collapsed": true
   },
   "outputs": [],
   "source": []
  }
 ],
 "metadata": {
  "kernelspec": {
   "display_name": "Python 3",
   "language": "python",
   "name": "python3"
  },
  "language_info": {
   "codemirror_mode": {
    "name": "ipython",
    "version": 3
   },
   "file_extension": ".py",
   "mimetype": "text/x-python",
   "name": "python",
   "nbconvert_exporter": "python",
   "pygments_lexer": "ipython3",
   "version": "3.5.1"
  }
 },
 "nbformat": 4,
 "nbformat_minor": 0
}
